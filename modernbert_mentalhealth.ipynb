{
 "cells": [
  {
   "cell_type": "markdown",
   "id": "1ab73ac3",
   "metadata": {},
   "source": [
    "Hello! This is the jupyter notebook for my Suicide Prevention NLP Classification project. This project uses ModernBERT to classify whether social media posts contain early signs of suicidal and depressive thoughts."
   ]
  },
  {
   "cell_type": "code",
   "execution_count": null,
   "id": "a64f5f56",
   "metadata": {},
   "outputs": [],
   "source": []
  }
 ],
 "metadata": {
  "kernelspec": {
   "display_name": ".venv",
   "language": "python",
   "name": "python3"
  },
  "language_info": {
   "name": "python",
   "version": "3.13.3"
  }
 },
 "nbformat": 4,
 "nbformat_minor": 5
}
