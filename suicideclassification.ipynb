{
 "cells": [
  {
   "cell_type": "markdown",
   "id": "1ab73ac3",
   "metadata": {},
   "source": [
    "Hello! This is the jupyter notebook for my Suicide Prevention NLP Classification project. This project uses ModernBERT to classify whether social media posts contain early signs of suicidal thoughts."
   ]
  },
  {
   "cell_type": "code",
   "execution_count": null,
   "id": "3433a55b",
   "metadata": {
    "vscode": {
     "languageId": "plaintext"
    }
   },
   "outputs": [],
   "source": []
  }
 ],
 "metadata": {
  "language_info": {
   "name": "python"
  }
 },
 "nbformat": 4,
 "nbformat_minor": 5
}
